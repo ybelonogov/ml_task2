{
 "cells": [
  {
   "cell_type": "markdown",
   "metadata": {
    "datalore": {
     "hide_input_from_viewers": false,
     "hide_output_from_viewers": false,
     "node_id": "si2nsBzsXZAvnJSGHsRmXz",
     "report_properties": {
      "rowId": "xKSlI0JGy2HZioEJGpzMq0"
     },
     "type": "MD"
    }
   },
   "source": [
    " \n",
    "# Установка библиотек"
   ]
  },
  {
   "cell_type": "code",
   "execution_count": 1,
   "metadata": {
    "datalore": {
     "hide_input_from_viewers": false,
     "hide_output_from_viewers": false,
     "node_id": "7h5GfATsJ0Owpl4TH0vTR6",
     "report_properties": {
      "rowId": "9Xbrseg7AHEAbOznNortIM"
     },
     "type": "CODE"
    }
   },
   "outputs": [
    {
     "name": "stdout",
     "output_type": "stream",
     "text": [
      "Requirement already satisfied: ultralytics in /home/alex/anaconda3/lib/python3.9/site-packages (8.0.208)\n",
      "Requirement already satisfied: matplotlib>=3.3.0 in /home/alex/anaconda3/lib/python3.9/site-packages (from ultralytics) (3.8.3)\n",
      "Requirement already satisfied: numpy>=1.22.2 in /home/alex/anaconda3/lib/python3.9/site-packages (from ultralytics) (1.22.4)\n",
      "Requirement already satisfied: opencv-python>=4.6.0 in /home/alex/anaconda3/lib/python3.9/site-packages (from ultralytics) (4.8.1.78)\n",
      "Requirement already satisfied: pillow>=7.1.2 in /home/alex/anaconda3/lib/python3.9/site-packages (from ultralytics) (10.3.0)\n",
      "Requirement already satisfied: pyyaml>=5.3.1 in /home/alex/anaconda3/lib/python3.9/site-packages (from ultralytics) (6.0)\n",
      "Requirement already satisfied: requests>=2.23.0 in /home/alex/anaconda3/lib/python3.9/site-packages (from ultralytics) (2.31.0)\n",
      "Requirement already satisfied: scipy>=1.4.1 in /home/alex/anaconda3/lib/python3.9/site-packages (from ultralytics) (1.12.0)\n",
      "Requirement already satisfied: torch>=1.8.0 in /home/alex/anaconda3/lib/python3.9/site-packages (from ultralytics) (2.1.0)\n",
      "Requirement already satisfied: torchvision>=0.9.0 in /home/alex/anaconda3/lib/python3.9/site-packages (from ultralytics) (0.16.0)\n",
      "Requirement already satisfied: tqdm>=4.64.0 in /home/alex/anaconda3/lib/python3.9/site-packages (from ultralytics) (4.66.1)\n",
      "Requirement already satisfied: pandas>=1.1.4 in /home/alex/anaconda3/lib/python3.9/site-packages (from ultralytics) (1.3.4)\n",
      "Requirement already satisfied: seaborn>=0.11.0 in /home/alex/anaconda3/lib/python3.9/site-packages (from ultralytics) (0.11.2)\n",
      "Requirement already satisfied: psutil in /home/alex/anaconda3/lib/python3.9/site-packages (from ultralytics) (5.8.0)\n",
      "Requirement already satisfied: py-cpuinfo in /home/alex/anaconda3/lib/python3.9/site-packages (from ultralytics) (9.0.0)\n",
      "Requirement already satisfied: thop>=0.1.1 in /home/alex/anaconda3/lib/python3.9/site-packages (from ultralytics) (0.1.1.post2209072238)\n",
      "Requirement already satisfied: contourpy>=1.0.1 in /home/alex/anaconda3/lib/python3.9/site-packages (from matplotlib>=3.3.0->ultralytics) (1.2.0)\n",
      "Requirement already satisfied: cycler>=0.10 in /home/alex/anaconda3/lib/python3.9/site-packages (from matplotlib>=3.3.0->ultralytics) (0.10.0)\n",
      "Requirement already satisfied: fonttools>=4.22.0 in /home/alex/anaconda3/lib/python3.9/site-packages (from matplotlib>=3.3.0->ultralytics) (4.51.0)\n",
      "Requirement already satisfied: kiwisolver>=1.3.1 in /home/alex/anaconda3/lib/python3.9/site-packages (from matplotlib>=3.3.0->ultralytics) (1.3.1)\n",
      "Requirement already satisfied: packaging>=20.0 in /home/alex/anaconda3/lib/python3.9/site-packages (from matplotlib>=3.3.0->ultralytics) (21.0)\n",
      "Requirement already satisfied: pyparsing>=2.3.1 in /home/alex/anaconda3/lib/python3.9/site-packages (from matplotlib>=3.3.0->ultralytics) (3.0.4)\n",
      "Requirement already satisfied: python-dateutil>=2.7 in /home/alex/anaconda3/lib/python3.9/site-packages (from matplotlib>=3.3.0->ultralytics) (2.8.2)\n",
      "Requirement already satisfied: importlib-resources>=3.2.0 in /home/alex/anaconda3/lib/python3.9/site-packages (from matplotlib>=3.3.0->ultralytics) (6.1.2)\n",
      "Requirement already satisfied: pytz>=2017.3 in /home/alex/anaconda3/lib/python3.9/site-packages (from pandas>=1.1.4->ultralytics) (2021.3)\n",
      "Requirement already satisfied: charset-normalizer<4,>=2 in /home/alex/anaconda3/lib/python3.9/site-packages (from requests>=2.23.0->ultralytics) (2.0.4)\n",
      "Requirement already satisfied: idna<4,>=2.5 in /home/alex/anaconda3/lib/python3.9/site-packages (from requests>=2.23.0->ultralytics) (3.2)\n",
      "Requirement already satisfied: urllib3<3,>=1.21.1 in /home/alex/anaconda3/lib/python3.9/site-packages (from requests>=2.23.0->ultralytics) (1.26.7)\n",
      "Requirement already satisfied: certifi>=2017.4.17 in /home/alex/anaconda3/lib/python3.9/site-packages (from requests>=2.23.0->ultralytics) (2021.10.8)\n",
      "Requirement already satisfied: filelock in /home/alex/anaconda3/lib/python3.9/site-packages (from torch>=1.8.0->ultralytics) (3.3.1)\n",
      "Requirement already satisfied: typing-extensions in /home/alex/anaconda3/lib/python3.9/site-packages (from torch>=1.8.0->ultralytics) (4.11.0)\n",
      "Requirement already satisfied: sympy in /home/alex/anaconda3/lib/python3.9/site-packages (from torch>=1.8.0->ultralytics) (1.9)\n",
      "Requirement already satisfied: networkx in /home/alex/anaconda3/lib/python3.9/site-packages (from torch>=1.8.0->ultralytics) (2.6.3)\n",
      "Requirement already satisfied: jinja2 in /home/alex/anaconda3/lib/python3.9/site-packages (from torch>=1.8.0->ultralytics) (2.11.3)\n",
      "Requirement already satisfied: fsspec in /home/alex/anaconda3/lib/python3.9/site-packages (from torch>=1.8.0->ultralytics) (2021.8.1)\n",
      "Requirement already satisfied: nvidia-cuda-nvrtc-cu12==12.1.105 in /home/alex/anaconda3/lib/python3.9/site-packages (from torch>=1.8.0->ultralytics) (12.1.105)\n",
      "Requirement already satisfied: nvidia-cuda-runtime-cu12==12.1.105 in /home/alex/anaconda3/lib/python3.9/site-packages (from torch>=1.8.0->ultralytics) (12.1.105)\n",
      "Requirement already satisfied: nvidia-cuda-cupti-cu12==12.1.105 in /home/alex/anaconda3/lib/python3.9/site-packages (from torch>=1.8.0->ultralytics) (12.1.105)\n",
      "Requirement already satisfied: nvidia-cudnn-cu12==8.9.2.26 in /home/alex/anaconda3/lib/python3.9/site-packages (from torch>=1.8.0->ultralytics) (8.9.2.26)\n",
      "Requirement already satisfied: nvidia-cublas-cu12==12.1.3.1 in /home/alex/anaconda3/lib/python3.9/site-packages (from torch>=1.8.0->ultralytics) (12.1.3.1)\n",
      "Requirement already satisfied: nvidia-cufft-cu12==11.0.2.54 in /home/alex/anaconda3/lib/python3.9/site-packages (from torch>=1.8.0->ultralytics) (11.0.2.54)\n",
      "Requirement already satisfied: nvidia-curand-cu12==10.3.2.106 in /home/alex/anaconda3/lib/python3.9/site-packages (from torch>=1.8.0->ultralytics) (10.3.2.106)\n",
      "Requirement already satisfied: nvidia-cusolver-cu12==11.4.5.107 in /home/alex/anaconda3/lib/python3.9/site-packages (from torch>=1.8.0->ultralytics) (11.4.5.107)\n",
      "Requirement already satisfied: nvidia-cusparse-cu12==12.1.0.106 in /home/alex/anaconda3/lib/python3.9/site-packages (from torch>=1.8.0->ultralytics) (12.1.0.106)\n",
      "Requirement already satisfied: nvidia-nccl-cu12==2.18.1 in /home/alex/anaconda3/lib/python3.9/site-packages (from torch>=1.8.0->ultralytics) (2.18.1)\n",
      "Requirement already satisfied: nvidia-nvtx-cu12==12.1.105 in /home/alex/anaconda3/lib/python3.9/site-packages (from torch>=1.8.0->ultralytics) (12.1.105)\n",
      "Requirement already satisfied: triton==2.1.0 in /home/alex/anaconda3/lib/python3.9/site-packages (from torch>=1.8.0->ultralytics) (2.1.0)\n",
      "Requirement already satisfied: nvidia-nvjitlink-cu12 in /home/alex/anaconda3/lib/python3.9/site-packages (from nvidia-cusolver-cu12==11.4.5.107->torch>=1.8.0->ultralytics) (12.3.52)\n",
      "Requirement already satisfied: six in /home/alex/anaconda3/lib/python3.9/site-packages (from cycler>=0.10->matplotlib>=3.3.0->ultralytics) (1.16.0)\n",
      "Requirement already satisfied: zipp>=3.1.0 in /home/alex/anaconda3/lib/python3.9/site-packages (from importlib-resources>=3.2.0->matplotlib>=3.3.0->ultralytics) (3.6.0)\n",
      "Requirement already satisfied: MarkupSafe>=0.23 in /home/alex/anaconda3/lib/python3.9/site-packages (from jinja2->torch>=1.8.0->ultralytics) (2.0.1)\n",
      "Requirement already satisfied: mpmath>=0.19 in /home/alex/anaconda3/lib/python3.9/site-packages (from sympy->torch>=1.8.0->ultralytics) (1.2.1)\n",
      "\u001b[33mDEPRECATION: pyodbc 4.0.0-unsupported has a non-standard version number. pip 24.1 will enforce this behaviour change. A possible replacement is to upgrade to a newer version of pyodbc or contact the author to suggest that they release a version with a conforming version number. Discussion can be found at https://github.com/pypa/pip/issues/12063\u001b[0m\u001b[33m\n",
      "\u001b[0mRequirement already satisfied: clearml in /home/alex/anaconda3/lib/python3.9/site-packages (1.14.4)\n",
      "Requirement already satisfied: attrs>=18.0 in /home/alex/anaconda3/lib/python3.9/site-packages (from clearml) (23.2.0)\n",
      "Requirement already satisfied: furl>=2.0.0 in /home/alex/anaconda3/lib/python3.9/site-packages (from clearml) (2.1.3)\n",
      "Requirement already satisfied: jsonschema>=2.6.0 in /home/alex/anaconda3/lib/python3.9/site-packages (from clearml) (3.2.0)\n",
      "Requirement already satisfied: numpy>=1.10 in /home/alex/anaconda3/lib/python3.9/site-packages (from clearml) (1.22.4)\n",
      "Requirement already satisfied: pathlib2>=2.3.0 in /home/alex/anaconda3/lib/python3.9/site-packages (from clearml) (2.3.6)\n"
     ]
    },
    {
     "name": "stdout",
     "output_type": "stream",
     "text": [
      "Requirement already satisfied: Pillow>=4.1.1 in /home/alex/anaconda3/lib/python3.9/site-packages (from clearml) (10.3.0)\n",
      "Requirement already satisfied: psutil>=3.4.2 in /home/alex/anaconda3/lib/python3.9/site-packages (from clearml) (5.8.0)\n",
      "Requirement already satisfied: pyparsing>=2.0.3 in /home/alex/anaconda3/lib/python3.9/site-packages (from clearml) (3.0.4)\n",
      "Requirement already satisfied: python-dateutil>=2.6.1 in /home/alex/anaconda3/lib/python3.9/site-packages (from clearml) (2.8.2)\n",
      "Requirement already satisfied: PyYAML>=3.12 in /home/alex/anaconda3/lib/python3.9/site-packages (from clearml) (6.0)\n",
      "Requirement already satisfied: requests>=2.20.0 in /home/alex/anaconda3/lib/python3.9/site-packages (from clearml) (2.31.0)\n",
      "Requirement already satisfied: six>=1.13.0 in /home/alex/anaconda3/lib/python3.9/site-packages (from clearml) (1.16.0)\n",
      "Requirement already satisfied: urllib3>=1.21.1 in /home/alex/anaconda3/lib/python3.9/site-packages (from clearml) (1.26.7)\n",
      "Requirement already satisfied: pyjwt<2.9.0,>=2.4.0 in /home/alex/anaconda3/lib/python3.9/site-packages (from clearml) (2.8.0)\n",
      "Requirement already satisfied: referencing<0.40 in /home/alex/anaconda3/lib/python3.9/site-packages (from clearml) (0.33.0)\n",
      "Requirement already satisfied: orderedmultidict>=1.0.1 in /home/alex/anaconda3/lib/python3.9/site-packages (from furl>=2.0.0->clearml) (1.0.1)\n",
      "Requirement already satisfied: pyrsistent>=0.14.0 in /home/alex/anaconda3/lib/python3.9/site-packages (from jsonschema>=2.6.0->clearml) (0.18.0)\n",
      "Requirement already satisfied: setuptools in /home/alex/anaconda3/lib/python3.9/site-packages (from jsonschema>=2.6.0->clearml) (69.5.1)\n",
      "Requirement already satisfied: rpds-py>=0.7.0 in /home/alex/anaconda3/lib/python3.9/site-packages (from referencing<0.40->clearml) (0.18.0)\n",
      "Requirement already satisfied: charset-normalizer<4,>=2 in /home/alex/anaconda3/lib/python3.9/site-packages (from requests>=2.20.0->clearml) (2.0.4)\n",
      "Requirement already satisfied: idna<4,>=2.5 in /home/alex/anaconda3/lib/python3.9/site-packages (from requests>=2.20.0->clearml) (3.2)\n",
      "Requirement already satisfied: certifi>=2017.4.17 in /home/alex/anaconda3/lib/python3.9/site-packages (from requests>=2.20.0->clearml) (2021.10.8)\n",
      "\u001b[33mDEPRECATION: pyodbc 4.0.0-unsupported has a non-standard version number. pip 24.1 will enforce this behaviour change. A possible replacement is to upgrade to a newer version of pyodbc or contact the author to suggest that they release a version with a conforming version number. Discussion can be found at https://github.com/pypa/pip/issues/12063\u001b[0m\u001b[33m\n",
      "\u001b[0mRequirement already satisfied: supervision in /home/alex/anaconda3/lib/python3.9/site-packages (0.18.0)\n",
      "Requirement already satisfied: defusedxml<0.8.0,>=0.7.1 in /home/alex/anaconda3/lib/python3.9/site-packages (from supervision) (0.7.1)\n",
      "Requirement already satisfied: matplotlib>=3.6.0 in /home/alex/anaconda3/lib/python3.9/site-packages (from supervision) (3.8.3)\n",
      "Requirement already satisfied: numpy>=1.21.2 in /home/alex/anaconda3/lib/python3.9/site-packages (from supervision) (1.22.4)\n",
      "Requirement already satisfied: opencv-python-headless>=4.5.5.64 in /home/alex/anaconda3/lib/python3.9/site-packages (from supervision) (4.9.0.80)\n",
      "Requirement already satisfied: pyyaml>=5.3 in /home/alex/anaconda3/lib/python3.9/site-packages (from supervision) (6.0)\n",
      "Requirement already satisfied: scipy<2.0.0,>=1.10.0 in /home/alex/anaconda3/lib/python3.9/site-packages (from supervision) (1.12.0)\n",
      "Requirement already satisfied: contourpy>=1.0.1 in /home/alex/anaconda3/lib/python3.9/site-packages (from matplotlib>=3.6.0->supervision) (1.2.0)\n",
      "Requirement already satisfied: cycler>=0.10 in /home/alex/anaconda3/lib/python3.9/site-packages (from matplotlib>=3.6.0->supervision) (0.10.0)\n",
      "Requirement already satisfied: fonttools>=4.22.0 in /home/alex/anaconda3/lib/python3.9/site-packages (from matplotlib>=3.6.0->supervision) (4.51.0)\n",
      "Requirement already satisfied: kiwisolver>=1.3.1 in /home/alex/anaconda3/lib/python3.9/site-packages (from matplotlib>=3.6.0->supervision) (1.3.1)\n",
      "Requirement already satisfied: packaging>=20.0 in /home/alex/anaconda3/lib/python3.9/site-packages (from matplotlib>=3.6.0->supervision) (21.0)\n",
      "Requirement already satisfied: pillow>=8 in /home/alex/anaconda3/lib/python3.9/site-packages (from matplotlib>=3.6.0->supervision) (10.3.0)\n",
      "Requirement already satisfied: pyparsing>=2.3.1 in /home/alex/anaconda3/lib/python3.9/site-packages (from matplotlib>=3.6.0->supervision) (3.0.4)\n",
      "Requirement already satisfied: python-dateutil>=2.7 in /home/alex/anaconda3/lib/python3.9/site-packages (from matplotlib>=3.6.0->supervision) (2.8.2)\n",
      "Requirement already satisfied: importlib-resources>=3.2.0 in /home/alex/anaconda3/lib/python3.9/site-packages (from matplotlib>=3.6.0->supervision) (6.1.2)\n",
      "Requirement already satisfied: six in /home/alex/anaconda3/lib/python3.9/site-packages (from cycler>=0.10->matplotlib>=3.6.0->supervision) (1.16.0)\n",
      "Requirement already satisfied: zipp>=3.1.0 in /home/alex/anaconda3/lib/python3.9/site-packages (from importlib-resources>=3.2.0->matplotlib>=3.6.0->supervision) (3.6.0)\n",
      "\u001b[33mDEPRECATION: pyodbc 4.0.0-unsupported has a non-standard version number. pip 24.1 will enforce this behaviour change. A possible replacement is to upgrade to a newer version of pyodbc or contact the author to suggest that they release a version with a conforming version number. Discussion can be found at https://github.com/pypa/pip/issues/12063\u001b[0m\u001b[33m\n",
      "\u001b[0m"
     ]
    }
   ],
   "source": [
    "!pip install ultralytics\n",
    "!pip install clearml\n",
    "!pip install supervision"
   ]
  },
  {
   "cell_type": "code",
   "execution_count": 1,
   "metadata": {
    "datalore": {
     "hide_input_from_viewers": false,
     "hide_output_from_viewers": false,
     "node_id": "qXPHkOFoPRqKHVFOmtDjpi",
     "report_properties": {
      "rowId": "QhLR0xVildZuep6oRDTrdN"
     },
     "type": "CODE"
    }
   },
   "outputs": [],
   "source": [
    "from ultralytics import YOLO\n",
    "import cv2\n",
    "import numpy as np\n",
    "import supervision as sv\n",
    "import pandas as pd\n",
    "from joblib import load"
   ]
  },
  {
   "cell_type": "code",
   "execution_count": 18,
   "metadata": {
    "datalore": {
     "hide_input_from_viewers": true,
     "hide_output_from_viewers": true,
     "node_id": "GNqtvG1nU96yzhkYChR3ZS",
     "type": "CODE"
    }
   },
   "outputs": [
    {
     "name": "stderr",
     "output_type": "stream",
     "text": [
      "Downloading https://github.com/ultralytics/assets/releases/download/v0.0.0/yolov8s-pose.pt to 'yolov8s-pose.pt'...\n",
      "100%|██████████████████████████████████████| 22.4M/22.4M [00:01<00:00, 14.6MB/s]\n"
     ]
    }
   ],
   "source": [
    "model = YOLO(\"yolov8s-pose.pt\")"
   ]
  },
  {
   "cell_type": "markdown",
   "metadata": {
    "datalore": {
     "hide_input_from_viewers": true,
     "hide_output_from_viewers": true,
     "node_id": "R6agvpplTU08FgoezKb6y2",
     "type": "MD"
    }
   },
   "source": [
    " \n",
    "# Общие геометрические функции, которые потребуются для написания эвристикdd\n",
    "\n",
    "![](https://github.com/ybelonogov/ml_task/tree/master/data/keypoints_yolo.png)"
   ]
  },
  {
   "cell_type": "markdown",
   "metadata": {
    "datalore": {
     "hide_input_from_viewers": true,
     "hide_output_from_viewers": true,
     "node_id": "WWR3Nacm9M9CyfT7JGWCR4",
     "type": "MD"
    }
   },
   "source": [
    "# Вывод основной + debug информации на экран"
   ]
  },
  {
   "cell_type": "code",
   "execution_count": 3,
   "metadata": {
    "datalore": {
     "hide_input_from_viewers": true,
     "hide_output_from_viewers": true,
     "node_id": "8KRx6yvaFEpz7rdyv7ReTx",
     "type": "CODE"
    }
   },
   "outputs": [],
   "source": [
    "def print_count(image, pull_ups, push_ups, squats, person):\n",
    "    org = [20, 100]  # Например, (x, y) = (50, 50)\n",
    "    font = cv2.FONT_HERSHEY_SIMPLEX\n",
    "    font_scale = 4  # Масштаб шрифта\n",
    "    font_color = (0, 200, 0)  # Цвет шрифта в формате BGR   \n",
    "    thickness = 6  # Толщина шрифта\n",
    "    org[1] = org[1] + (person - 1) * 400\n",
    "    # text = \"person: {0} \".format(person)\n",
    "    # cv2.putText(image, text, org, font, font_scale, font_color, thickness)\n",
    "    # org[1] += 100\n",
    "    text = \"pull ups: {0} \".format(pull_ups)\n",
    "    cv2.putText(image, text, org, font, font_scale, font_color, thickness)\n",
    "    org[1] += 100\n",
    "    text = \"push ups: {0} \".format(push_ups)\n",
    "    cv2.putText(image, text, org, font, font_scale, font_color, thickness)\n",
    "    org[1] += 100\n",
    "    text = \"squats: {0}\".format(squats)\n",
    "    cv2.putText(image, text, org, font, font_scale, font_color, thickness)\n",
    "\n",
    "\n",
    "def print_debag_info(image, movment_down,position):\n",
    "    org = [20, 100]  \n",
    "    font = cv2.FONT_HERSHEY_SIMPLEX\n",
    "    font_scale = 2  \n",
    "    font_color = (0, 200, 0)    \n",
    "    thickness = 2  \n",
    "    org[1] = org[1] + 400\n",
    "    text = \"movment_down: {0} \".format(movment_down)\n",
    "    cv2.putText(image, text, org, font, font_scale, font_color, thickness)\n",
    "    org[1] += 50\n",
    "    text = \"movment_down predict: {0} \".format(position==1)\n",
    "    cv2.putText(image, text, org, font, font_scale, font_color, thickness)\n"
   ]
  },
  {
   "cell_type": "markdown",
   "metadata": {},
   "source": [
    "## Функция для локализации ключевых точек"
   ]
  },
  {
   "cell_type": "code",
   "execution_count": 4,
   "metadata": {},
   "outputs": [],
   "source": [
    "def to_predict_format (result):\n",
    "    x1 = result.boxes.xyxy[0][0].item()\n",
    "    y1 = result.boxes.xyxy[0][1].item()\n",
    "    x2 = result.boxes.xyxy[0][2].item()\n",
    "    y2 = result.boxes.xyxy[0][3].item()\n",
    "    w = x2 - x1  # ширина bounding box\n",
    "    h = y2 - y1  # высота bounding box\n",
    "    ans = {}\n",
    "    for i, (x, y) in enumerate(result.keypoints.xy[0]):\n",
    "        if x.item()!=0:\n",
    "            ans[f\"{i}_x\"] = (x.item()-x1)/w\n",
    "            ans[f\"{i}_y\"] = (y.item()-y1)/h\n",
    "        else:\n",
    "            ans[f\"{i}_x\"] = x.item()\n",
    "            ans[f\"{i}_y\"] = y.item()\n",
    "    return pd.DataFrame(ans, index=[0])\n",
    "    "
   ]
  },
  {
   "cell_type": "markdown",
   "metadata": {
    "datalore": {
     "hide_input_from_viewers": true,
     "hide_output_from_viewers": true,
     "node_id": "FW3RPud88qqzXi5tlTfMCR",
     "type": "MD"
    }
   },
   "source": [
    "# Загрузка и обработка видео  "
   ]
  },
  {
   "cell_type": "code",
   "execution_count": 23,
   "metadata": {
    "datalore": {
     "hide_input_from_viewers": true,
     "hide_output_from_viewers": true,
     "node_id": "LgIz8qhInUPIMGCiyt0SAa",
     "type": "CODE"
    }
   },
   "outputs": [
    {
     "name": "stderr",
     "output_type": "stream",
     "text": [
      "OpenCV: FFMPEG: tag 0x44495658/'XVID' is not supported with codec id 12 and format 'mp4 / MP4 (MPEG-4 Part 14)'\n",
      "OpenCV: FFMPEG: fallback to use tag 0x7634706d/'mp4v'\n",
      "\n",
      "0: 640x384 1 person, 68.0ms\n",
      "Speed: 6.5ms preprocess, 68.0ms inference, 1.4ms postprocess per image at shape (1, 3, 640, 384)\n",
      "\n",
      "0: 640x384 1 person, 68.0ms\n",
      "Speed: 2.5ms preprocess, 68.0ms inference, 1.5ms postprocess per image at shape (1, 3, 640, 384)\n",
      "\n",
      "0: 640x384 1 person, 68.1ms\n",
      "Speed: 2.7ms preprocess, 68.1ms inference, 1.4ms postprocess per image at shape (1, 3, 640, 384)\n",
      "\n",
      "0: 640x384 1 person, 68.2ms\n",
      "Speed: 2.9ms preprocess, 68.2ms inference, 1.5ms postprocess per image at shape (1, 3, 640, 384)\n",
      "\n",
      "0: 640x384 1 person, 68.1ms\n",
      "Speed: 2.9ms preprocess, 68.1ms inference, 1.7ms postprocess per image at shape (1, 3, 640, 384)\n",
      "\n",
      "0: 640x384 1 person, 67.9ms\n",
      "Speed: 3.0ms preprocess, 67.9ms inference, 1.5ms postprocess per image at shape (1, 3, 640, 384)\n",
      "\n",
      "0: 640x384 1 person, 67.9ms\n",
      "Speed: 3.0ms preprocess, 67.9ms inference, 1.5ms postprocess per image at shape (1, 3, 640, 384)\n",
      "\n",
      "0: 640x384 1 person, 68.1ms\n",
      "Speed: 3.0ms preprocess, 68.1ms inference, 1.4ms postprocess per image at shape (1, 3, 640, 384)\n",
      "\n",
      "0: 640x384 1 person, 68.1ms\n",
      "Speed: 3.0ms preprocess, 68.1ms inference, 1.4ms postprocess per image at shape (1, 3, 640, 384)\n",
      "\n",
      "0: 640x384 1 person, 67.8ms\n",
      "Speed: 2.4ms preprocess, 67.8ms inference, 1.9ms postprocess per image at shape (1, 3, 640, 384)\n",
      "\n",
      "0: 640x384 1 person, 68.1ms\n",
      "Speed: 2.5ms preprocess, 68.1ms inference, 1.5ms postprocess per image at shape (1, 3, 640, 384)\n",
      "\n",
      "0: 640x384 1 person, 68.0ms\n",
      "Speed: 2.8ms preprocess, 68.0ms inference, 2.2ms postprocess per image at shape (1, 3, 640, 384)\n",
      "\n",
      "0: 640x384 1 person, 67.9ms\n",
      "Speed: 2.6ms preprocess, 67.9ms inference, 1.5ms postprocess per image at shape (1, 3, 640, 384)\n",
      "\n",
      "0: 640x384 1 person, 68.0ms\n",
      "Speed: 2.8ms preprocess, 68.0ms inference, 1.5ms postprocess per image at shape (1, 3, 640, 384)\n",
      "\n",
      "0: 640x384 1 person, 68.0ms\n",
      "Speed: 3.1ms preprocess, 68.0ms inference, 1.9ms postprocess per image at shape (1, 3, 640, 384)\n",
      "\n",
      "0: 640x384 1 person, 68.1ms\n",
      "Speed: 2.8ms preprocess, 68.1ms inference, 1.5ms postprocess per image at shape (1, 3, 640, 384)\n",
      "\n",
      "0: 640x384 1 person, 67.8ms\n",
      "Speed: 2.3ms preprocess, 67.8ms inference, 1.5ms postprocess per image at shape (1, 3, 640, 384)\n",
      "\n",
      "0: 640x384 1 person, 68.1ms\n",
      "Speed: 2.3ms preprocess, 68.1ms inference, 1.5ms postprocess per image at shape (1, 3, 640, 384)\n",
      "\n",
      "0: 640x384 1 person, 67.9ms\n",
      "Speed: 3.3ms preprocess, 67.9ms inference, 1.4ms postprocess per image at shape (1, 3, 640, 384)\n",
      "\n",
      "0: 640x384 1 person, 68.2ms\n",
      "Speed: 2.5ms preprocess, 68.2ms inference, 2.4ms postprocess per image at shape (1, 3, 640, 384)\n",
      "\n",
      "0: 640x384 1 person, 67.9ms\n",
      "Speed: 2.4ms preprocess, 67.9ms inference, 1.9ms postprocess per image at shape (1, 3, 640, 384)\n",
      "\n",
      "0: 640x384 1 person, 67.9ms\n",
      "Speed: 2.5ms preprocess, 67.9ms inference, 1.5ms postprocess per image at shape (1, 3, 640, 384)\n",
      "\n",
      "0: 640x384 1 person, 67.9ms\n",
      "Speed: 3.3ms preprocess, 67.9ms inference, 1.4ms postprocess per image at shape (1, 3, 640, 384)\n",
      "\n",
      "0: 640x384 1 person, 67.9ms\n",
      "Speed: 2.5ms preprocess, 67.9ms inference, 1.5ms postprocess per image at shape (1, 3, 640, 384)\n",
      "\n",
      "0: 640x384 1 person, 67.9ms\n",
      "Speed: 2.2ms preprocess, 67.9ms inference, 1.5ms postprocess per image at shape (1, 3, 640, 384)\n",
      "\n",
      "0: 640x384 1 person, 67.9ms\n",
      "Speed: 2.4ms preprocess, 67.9ms inference, 1.4ms postprocess per image at shape (1, 3, 640, 384)\n",
      "\n",
      "0: 640x384 1 person, 68.1ms\n",
      "Speed: 3.4ms preprocess, 68.1ms inference, 1.4ms postprocess per image at shape (1, 3, 640, 384)\n",
      "\n",
      "0: 640x384 1 person, 67.9ms\n",
      "Speed: 2.4ms preprocess, 67.9ms inference, 1.4ms postprocess per image at shape (1, 3, 640, 384)\n",
      "\n",
      "0: 640x384 1 person, 67.8ms\n",
      "Speed: 2.5ms preprocess, 67.8ms inference, 1.5ms postprocess per image at shape (1, 3, 640, 384)\n",
      "\n",
      "0: 640x384 1 person, 68.1ms\n",
      "Speed: 2.4ms preprocess, 68.1ms inference, 1.4ms postprocess per image at shape (1, 3, 640, 384)\n",
      "\n",
      "0: 640x384 1 person, 68.0ms\n",
      "Speed: 3.3ms preprocess, 68.0ms inference, 1.4ms postprocess per image at shape (1, 3, 640, 384)\n",
      "\n",
      "0: 640x384 1 person, 67.9ms\n",
      "Speed: 2.4ms preprocess, 67.9ms inference, 1.7ms postprocess per image at shape (1, 3, 640, 384)\n",
      "\n",
      "0: 640x384 1 person, 67.8ms\n",
      "Speed: 2.5ms preprocess, 67.8ms inference, 1.5ms postprocess per image at shape (1, 3, 640, 384)\n",
      "\n",
      "0: 640x384 1 person, 68.2ms\n",
      "Speed: 2.5ms preprocess, 68.2ms inference, 1.5ms postprocess per image at shape (1, 3, 640, 384)\n",
      "\n",
      "0: 640x384 1 person, 67.9ms\n",
      "Speed: 3.4ms preprocess, 67.9ms inference, 1.4ms postprocess per image at shape (1, 3, 640, 384)\n",
      "\n",
      "0: 640x384 1 person, 67.8ms\n",
      "Speed: 2.6ms preprocess, 67.8ms inference, 1.9ms postprocess per image at shape (1, 3, 640, 384)\n",
      "\n",
      "0: 640x384 1 person, 67.9ms\n",
      "Speed: 3.2ms preprocess, 67.9ms inference, 1.4ms postprocess per image at shape (1, 3, 640, 384)\n",
      "\n",
      "0: 640x384 1 person, 68.0ms\n",
      "Speed: 2.4ms preprocess, 68.0ms inference, 1.4ms postprocess per image at shape (1, 3, 640, 384)\n",
      "\n",
      "0: 640x384 1 person, 68.1ms\n",
      "Speed: 2.3ms preprocess, 68.1ms inference, 1.5ms postprocess per image at shape (1, 3, 640, 384)\n",
      "\n",
      "0: 640x384 1 person, 67.9ms\n",
      "Speed: 2.6ms preprocess, 67.9ms inference, 2.1ms postprocess per image at shape (1, 3, 640, 384)\n",
      "\n",
      "0: 640x384 1 person, 68.1ms\n",
      "Speed: 2.5ms preprocess, 68.1ms inference, 1.5ms postprocess per image at shape (1, 3, 640, 384)\n",
      "\n",
      "0: 640x384 1 person, 68.0ms\n",
      "Speed: 2.4ms preprocess, 68.0ms inference, 1.4ms postprocess per image at shape (1, 3, 640, 384)\n",
      "\n",
      "0: 640x384 1 person, 68.2ms\n",
      "Speed: 3.3ms preprocess, 68.2ms inference, 1.7ms postprocess per image at shape (1, 3, 640, 384)\n",
      "\n",
      "0: 640x384 1 person, 68.1ms\n",
      "Speed: 2.5ms preprocess, 68.1ms inference, 1.4ms postprocess per image at shape (1, 3, 640, 384)\n",
      "\n",
      "0: 640x384 1 person, 67.9ms\n",
      "Speed: 2.4ms preprocess, 67.9ms inference, 1.5ms postprocess per image at shape (1, 3, 640, 384)\n",
      "\n",
      "0: 640x384 1 person, 67.9ms\n",
      "Speed: 2.7ms preprocess, 67.9ms inference, 2.0ms postprocess per image at shape (1, 3, 640, 384)\n",
      "\n",
      "0: 640x384 1 person, 67.8ms\n",
      "Speed: 2.6ms preprocess, 67.8ms inference, 1.5ms postprocess per image at shape (1, 3, 640, 384)\n"
     ]
    },
    {
     "ename": "error",
     "evalue": "OpenCV(4.9.0) /io/opencv/modules/highgui/src/window.cpp:1266: error: (-2:Unspecified error) The function is not implemented. Rebuild the library with Windows, GTK+ 2.x or Cocoa support. If you are on Ubuntu or Debian, install libgtk2.0-dev and pkg-config, then re-run cmake or configure script in function 'cvDestroyAllWindows'\n",
     "output_type": "error",
     "traceback": [
      "\u001b[0;31m---------------------------------------------------------------------------\u001b[0m",
      "\u001b[0;31merror\u001b[0m                                     Traceback (most recent call last)",
      "\u001b[0;32m/tmp/ipykernel_3984/3686876632.py\u001b[0m in \u001b[0;36m<module>\u001b[0;34m\u001b[0m\n\u001b[1;32m     40\u001b[0m \u001b[0mvideo\u001b[0m\u001b[0;34m.\u001b[0m\u001b[0mrelease\u001b[0m\u001b[0;34m(\u001b[0m\u001b[0;34m)\u001b[0m\u001b[0;34m\u001b[0m\u001b[0;34m\u001b[0m\u001b[0m\n\u001b[1;32m     41\u001b[0m \u001b[0moutput_video\u001b[0m\u001b[0;34m.\u001b[0m\u001b[0mrelease\u001b[0m\u001b[0;34m(\u001b[0m\u001b[0;34m)\u001b[0m\u001b[0;34m\u001b[0m\u001b[0;34m\u001b[0m\u001b[0m\n\u001b[0;32m---> 42\u001b[0;31m \u001b[0mcv2\u001b[0m\u001b[0;34m.\u001b[0m\u001b[0mdestroyAllWindows\u001b[0m\u001b[0;34m(\u001b[0m\u001b[0;34m)\u001b[0m\u001b[0;34m\u001b[0m\u001b[0;34m\u001b[0m\u001b[0m\n\u001b[0m",
      "\u001b[0;31merror\u001b[0m: OpenCV(4.9.0) /io/opencv/modules/highgui/src/window.cpp:1266: error: (-2:Unspecified error) The function is not implemented. Rebuild the library with Windows, GTK+ 2.x or Cocoa support. If you are on Ubuntu or Debian, install libgtk2.0-dev and pkg-config, then re-run cmake or configure script in function 'cvDestroyAllWindows'\n"
     ]
    }
   ],
   "source": [
    "video = cv2.VideoCapture(\"data/video/push_ups2.mp4\")\n",
    "video_info = sv.VideoInfo.from_video_path(\"data/video/push_ups2.mp4\")\n",
    "fourcc = cv2.VideoWriter_fourcc(*\"XVID\")\n",
    "output_video = cv2.VideoWriter(\"ans/push_ups2v2.mp4\", fourcc, video_info.fps,\n",
    "                               (video_info.width, video_info.height))\n",
    "push_up_checker = load('push_up_checker_cat_boost.joblib')\n",
    "# result = model(source=\"data/push_ups1.mp4\", show=False, conf=0.3, save=True)\n",
    "push_up_count = 0\n",
    "pull_up_count = 0\n",
    "squats_count = 0\n",
    "movment_down = True\n",
    "prev_angle = 0\n",
    "cadr_num = 0\n",
    "\n",
    "while True:\n",
    "    ret, frame = video.read()\n",
    "    if not ret:\n",
    "        break\n",
    "    if cadr_num % 10 == 0:\n",
    "        results = model.predict(frame)\n",
    "        person = 1\n",
    "        result = results[0]\n",
    "        keypoints = to_predict_format(result)\n",
    "        position = push_up_checker.predict(keypoints)\n",
    "        if position[0][0]==0 and movment_down:\n",
    "            push_up_count +=1\n",
    "            movment_down ==False\n",
    "        elif position[0][0]==1 and not movment_down:\n",
    "            movment_down ==True\n",
    "    cadr_num += 1\n",
    "    print_debag_info(frame, movment_down,position[0][0])\n",
    "    print_count(frame, pull_up_count, push_up_count, squats_count, person)\n",
    "    output_video.write(frame)\n",
    "\n",
    "video.release()\n",
    "output_video.release()\n",
    "# cv2.destroyAllWindows()"
   ]
  }
 ],
 "metadata": {
  "datalore": {
   "base_environment": "default",
   "computation_mode": "JUPYTER",
   "package_manager": "pip",
   "packages": [],
   "report_row_ids": [
    "xKSlI0JGy2HZioEJGpzMq0",
    "QhLR0xVildZuep6oRDTrdN",
    "9Xbrseg7AHEAbOznNortIM"
   ],
   "version": 3
  },
  "kernelspec": {
   "display_name": "Python 3 (ipykernel)",
   "language": "python",
   "name": "python3"
  },
  "language_info": {
   "codemirror_mode": {
    "name": "ipython",
    "version": 3
   },
   "file_extension": ".py",
   "mimetype": "text/x-python",
   "name": "python",
   "nbconvert_exporter": "python",
   "pygments_lexer": "ipython3",
   "version": "3.9.7"
  }
 },
 "nbformat": 4,
 "nbformat_minor": 4
}
